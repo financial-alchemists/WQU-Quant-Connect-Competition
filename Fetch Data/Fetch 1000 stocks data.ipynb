# Fetch 1000 stocks data.ipynb

import pandas as pd
import sqlite3
import requests
import os

# Function to fetch CSV from Google Drive
def fetch_csv_from_gdrive(gdrive_url):
    response = requests.get(gdrive_url)
    if response.status_code == 200:
        return pd.read_csv(pd.compat.StringIO(response.text))
    else:
        raise Exception(f"Failed to fetch data from {gdrive_url}")

# Function to store data into SQLite database
def store_data_to_sqlite(dataframe, db_name='stocks.db'):
    conn = sqlite3.connect(db_name)
    dataframe.to_sql('prices', conn, if_exists='append', index=False)
    conn.close()

# Main process
def main():
    gdrive_urls = [
        # Add your Google Drive CSV URLs here
    ]
    
    for url in gdrive_urls:
        try:
            print(f"Fetching data from {url}...")
            data = fetch_csv_from_gdrive(url)
            print("Data fetched successfully.")
            print("Storing data to SQLite database...")
            store_data_to_sqlite(data)
            print("Data stored successfully.")
        except Exception as e:
            print(f"An error occurred: {e}")

# Run the main process
if __name__ == "__main__":
    main()